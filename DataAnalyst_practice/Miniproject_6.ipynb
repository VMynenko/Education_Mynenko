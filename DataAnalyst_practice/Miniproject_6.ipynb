{
 "cells": [
  {
   "cell_type": "code",
   "execution_count": 1,
   "id": "760194da",
   "metadata": {},
   "outputs": [],
   "source": [
    "import pandas as pd"
   ]
  },
  {
   "cell_type": "code",
   "execution_count": 4,
   "id": "30fc5ee9",
   "metadata": {},
   "outputs": [],
   "source": [
    "df = pd.read_csv('ads_data.csv')\n",
    "df_client = pd.read_csv('ads_clients_data.csv')"
   ]
  },
  {
   "cell_type": "code",
   "execution_count": 5,
   "id": "77e3dc37",
   "metadata": {},
   "outputs": [
    {
     "data": {
      "text/html": [
       "<div>\n",
       "<style scoped>\n",
       "    .dataframe tbody tr th:only-of-type {\n",
       "        vertical-align: middle;\n",
       "    }\n",
       "\n",
       "    .dataframe tbody tr th {\n",
       "        vertical-align: top;\n",
       "    }\n",
       "\n",
       "    .dataframe thead th {\n",
       "        text-align: right;\n",
       "    }\n",
       "</style>\n",
       "<table border=\"1\" class=\"dataframe\">\n",
       "  <thead>\n",
       "    <tr style=\"text-align: right;\">\n",
       "      <th></th>\n",
       "      <th>date</th>\n",
       "      <th>time</th>\n",
       "      <th>event</th>\n",
       "      <th>platform</th>\n",
       "      <th>ad_id</th>\n",
       "      <th>client_union_id</th>\n",
       "      <th>campaign_union_id</th>\n",
       "      <th>ad_cost_type</th>\n",
       "      <th>ad_cost</th>\n",
       "      <th>has_video</th>\n",
       "      <th>target_audience_count</th>\n",
       "    </tr>\n",
       "  </thead>\n",
       "  <tbody>\n",
       "    <tr>\n",
       "      <th>0</th>\n",
       "      <td>2019-04-01</td>\n",
       "      <td>2019-04-01 00:00:48</td>\n",
       "      <td>view</td>\n",
       "      <td>android</td>\n",
       "      <td>45061</td>\n",
       "      <td>34734</td>\n",
       "      <td>45061</td>\n",
       "      <td>CPM</td>\n",
       "      <td>200.6</td>\n",
       "      <td>0</td>\n",
       "      <td>1955269</td>\n",
       "    </tr>\n",
       "    <tr>\n",
       "      <th>1</th>\n",
       "      <td>2019-04-01</td>\n",
       "      <td>2019-04-01 00:00:48</td>\n",
       "      <td>view</td>\n",
       "      <td>web</td>\n",
       "      <td>121288</td>\n",
       "      <td>121288</td>\n",
       "      <td>121288</td>\n",
       "      <td>CPM</td>\n",
       "      <td>187.4</td>\n",
       "      <td>0</td>\n",
       "      <td>232011</td>\n",
       "    </tr>\n",
       "    <tr>\n",
       "      <th>2</th>\n",
       "      <td>2019-04-01</td>\n",
       "      <td>2019-04-01 00:01:03</td>\n",
       "      <td>view</td>\n",
       "      <td>android</td>\n",
       "      <td>102737</td>\n",
       "      <td>102535</td>\n",
       "      <td>102564</td>\n",
       "      <td>CPC</td>\n",
       "      <td>60.7</td>\n",
       "      <td>0</td>\n",
       "      <td>4410</td>\n",
       "    </tr>\n",
       "    <tr>\n",
       "      <th>3</th>\n",
       "      <td>2019-04-01</td>\n",
       "      <td>2019-04-01 00:01:03</td>\n",
       "      <td>view</td>\n",
       "      <td>android</td>\n",
       "      <td>107564</td>\n",
       "      <td>106914</td>\n",
       "      <td>107564</td>\n",
       "      <td>CPM</td>\n",
       "      <td>217.3</td>\n",
       "      <td>0</td>\n",
       "      <td>62711</td>\n",
       "    </tr>\n",
       "    <tr>\n",
       "      <th>4</th>\n",
       "      <td>2019-04-01</td>\n",
       "      <td>2019-04-01 00:01:09</td>\n",
       "      <td>view</td>\n",
       "      <td>android</td>\n",
       "      <td>4922</td>\n",
       "      <td>37</td>\n",
       "      <td>4400</td>\n",
       "      <td>CPC</td>\n",
       "      <td>60.1</td>\n",
       "      <td>0</td>\n",
       "      <td>1183501</td>\n",
       "    </tr>\n",
       "  </tbody>\n",
       "</table>\n",
       "</div>"
      ],
      "text/plain": [
       "         date                 time event platform   ad_id  client_union_id  \\\n",
       "0  2019-04-01  2019-04-01 00:00:48  view  android   45061            34734   \n",
       "1  2019-04-01  2019-04-01 00:00:48  view      web  121288           121288   \n",
       "2  2019-04-01  2019-04-01 00:01:03  view  android  102737           102535   \n",
       "3  2019-04-01  2019-04-01 00:01:03  view  android  107564           106914   \n",
       "4  2019-04-01  2019-04-01 00:01:09  view  android    4922               37   \n",
       "\n",
       "   campaign_union_id ad_cost_type  ad_cost  has_video  target_audience_count  \n",
       "0              45061          CPM    200.6          0                1955269  \n",
       "1             121288          CPM    187.4          0                 232011  \n",
       "2             102564          CPC     60.7          0                   4410  \n",
       "3             107564          CPM    217.3          0                  62711  \n",
       "4               4400          CPC     60.1          0                1183501  "
      ]
     },
     "execution_count": 5,
     "metadata": {},
     "output_type": "execute_result"
    }
   ],
   "source": [
    "df.head()"
   ]
  },
  {
   "cell_type": "code",
   "execution_count": 6,
   "id": "4bf23db0",
   "metadata": {},
   "outputs": [
    {
     "data": {
      "text/html": [
       "<div>\n",
       "<style scoped>\n",
       "    .dataframe tbody tr th:only-of-type {\n",
       "        vertical-align: middle;\n",
       "    }\n",
       "\n",
       "    .dataframe tbody tr th {\n",
       "        vertical-align: top;\n",
       "    }\n",
       "\n",
       "    .dataframe thead th {\n",
       "        text-align: right;\n",
       "    }\n",
       "</style>\n",
       "<table border=\"1\" class=\"dataframe\">\n",
       "  <thead>\n",
       "    <tr style=\"text-align: right;\">\n",
       "      <th></th>\n",
       "      <th>date</th>\n",
       "      <th>client_union_id</th>\n",
       "      <th>community_id</th>\n",
       "      <th>create_date</th>\n",
       "    </tr>\n",
       "  </thead>\n",
       "  <tbody>\n",
       "    <tr>\n",
       "      <th>0</th>\n",
       "      <td>2020-05-07</td>\n",
       "      <td>1</td>\n",
       "      <td>-130371893</td>\n",
       "      <td>2018-12-24</td>\n",
       "    </tr>\n",
       "    <tr>\n",
       "      <th>1</th>\n",
       "      <td>2020-05-07</td>\n",
       "      <td>2</td>\n",
       "      <td>-130304626</td>\n",
       "      <td>2019-02-10</td>\n",
       "    </tr>\n",
       "    <tr>\n",
       "      <th>2</th>\n",
       "      <td>2020-05-07</td>\n",
       "      <td>3</td>\n",
       "      <td>-130462599</td>\n",
       "      <td>2019-01-25</td>\n",
       "    </tr>\n",
       "    <tr>\n",
       "      <th>3</th>\n",
       "      <td>2020-05-07</td>\n",
       "      <td>4</td>\n",
       "      <td>-130574300</td>\n",
       "      <td>2018-12-09</td>\n",
       "    </tr>\n",
       "    <tr>\n",
       "      <th>4</th>\n",
       "      <td>2020-05-07</td>\n",
       "      <td>5</td>\n",
       "      <td>-130292358</td>\n",
       "      <td>2019-01-08</td>\n",
       "    </tr>\n",
       "  </tbody>\n",
       "</table>\n",
       "</div>"
      ],
      "text/plain": [
       "         date  client_union_id  community_id create_date\n",
       "0  2020-05-07                1    -130371893  2018-12-24\n",
       "1  2020-05-07                2    -130304626  2019-02-10\n",
       "2  2020-05-07                3    -130462599  2019-01-25\n",
       "3  2020-05-07                4    -130574300  2018-12-09\n",
       "4  2020-05-07                5    -130292358  2019-01-08"
      ]
     },
     "execution_count": 6,
     "metadata": {},
     "output_type": "execute_result"
    }
   ],
   "source": [
    "df_client.head()"
   ]
  },
  {
   "cell_type": "code",
   "execution_count": 17,
   "id": "ddc9e695",
   "metadata": {},
   "outputs": [],
   "source": [
    "event = df.groupby(['ad_id', 'event'], as_index=False).agg({'time' : 'count'}) \\\n",
    "    .rename(columns={'time' : 'event_number'})"
   ]
  },
  {
   "cell_type": "code",
   "execution_count": 24,
   "id": "5630b56e",
   "metadata": {},
   "outputs": [],
   "source": [
    "pivot_events = event.pivot(index='ad_id', columns = 'event', values='event_number').fillna(0)"
   ]
  },
  {
   "cell_type": "code",
   "execution_count": 28,
   "id": "043c8c08",
   "metadata": {},
   "outputs": [
    {
     "data": {
      "text/plain": [
       "event\n",
       "click    113.0\n",
       "view     923.0\n",
       "dtype: float64"
      ]
     },
     "execution_count": 28,
     "metadata": {},
     "output_type": "execute_result"
    }
   ],
   "source": [
    "pivot_events.mean().round()"
   ]
  },
  {
   "cell_type": "code",
   "execution_count": 34,
   "id": "83207494",
   "metadata": {},
   "outputs": [
    {
     "data": {
      "text/html": [
       "<div>\n",
       "<style scoped>\n",
       "    .dataframe tbody tr th:only-of-type {\n",
       "        vertical-align: middle;\n",
       "    }\n",
       "\n",
       "    .dataframe tbody tr th {\n",
       "        vertical-align: top;\n",
       "    }\n",
       "\n",
       "    .dataframe thead th {\n",
       "        text-align: right;\n",
       "    }\n",
       "</style>\n",
       "<table border=\"1\" class=\"dataframe\">\n",
       "  <thead>\n",
       "    <tr style=\"text-align: right;\">\n",
       "      <th></th>\n",
       "      <th>event_number</th>\n",
       "    </tr>\n",
       "    <tr>\n",
       "      <th>event</th>\n",
       "      <th></th>\n",
       "    </tr>\n",
       "  </thead>\n",
       "  <tbody>\n",
       "    <tr>\n",
       "      <th>click</th>\n",
       "      <td>113.0</td>\n",
       "    </tr>\n",
       "    <tr>\n",
       "      <th>view</th>\n",
       "      <td>923.0</td>\n",
       "    </tr>\n",
       "  </tbody>\n",
       "</table>\n",
       "</div>"
      ],
      "text/plain": [
       "       event_number\n",
       "event              \n",
       "click         113.0\n",
       "view          923.0"
      ]
     },
     "execution_count": 34,
     "metadata": {},
     "output_type": "execute_result"
    }
   ],
   "source": [
    "#another path\n",
    "round(event.groupby('event').agg({'event_number' : 'sum'}) / df.ad_id.nunique())"
   ]
  },
  {
   "cell_type": "code",
   "execution_count": 31,
   "id": "0f0ce2b1",
   "metadata": {},
   "outputs": [
    {
     "data": {
      "text/plain": [
       "965"
      ]
     },
     "execution_count": 31,
     "metadata": {},
     "output_type": "execute_result"
    }
   ],
   "source": [
    "df.ad_id.nunique()"
   ]
  },
  {
   "cell_type": "code",
   "execution_count": 38,
   "id": "d3c9d1ef",
   "metadata": {},
   "outputs": [],
   "source": [
    "views = event.query('event == \"view\"')"
   ]
  },
  {
   "cell_type": "code",
   "execution_count": 39,
   "id": "746a1f37",
   "metadata": {},
   "outputs": [],
   "source": [
    "import seaborn as sns"
   ]
  },
  {
   "cell_type": "code",
   "execution_count": 40,
   "id": "77c94921",
   "metadata": {},
   "outputs": [
    {
     "name": "stderr",
     "output_type": "stream",
     "text": [
      "C:\\ProgramData\\Anaconda3\\lib\\site-packages\\seaborn\\distributions.py:2557: FutureWarning: `distplot` is a deprecated function and will be removed in a future version. Please adapt your code to use either `displot` (a figure-level function with similar flexibility) or `histplot` (an axes-level function for histograms).\n",
      "  warnings.warn(msg, FutureWarning)\n"
     ]
    },
    {
     "data": {
      "text/plain": [
       "<AxesSubplot:xlabel='event_number', ylabel='Density'>"
      ]
     },
     "execution_count": 40,
     "metadata": {},
     "output_type": "execute_result"
    },
    {
     "data": {
      "image/png": "[encoded data removed]",
      "text/plain": [
       "<Figure size 432x288 with 1 Axes>"
      ]
     },
     "metadata": {
      "needs_background": "light"
     },
     "output_type": "display_data"
    }
   ],
   "source": [
    "sns.distplot(views.event_number)"
   ]
  },
  {
   "cell_type": "code",
   "execution_count": 41,
   "id": "47bb7036",
   "metadata": {},
   "outputs": [],
   "source": [
    "import numpy as np"
   ]
  },
  {
   "cell_type": "code",
   "execution_count": 42,
   "id": "6e51f906",
   "metadata": {},
   "outputs": [
    {
     "data": {
      "text/html": [
       "<div>\n",
       "<style scoped>\n",
       "    .dataframe tbody tr th:only-of-type {\n",
       "        vertical-align: middle;\n",
       "    }\n",
       "\n",
       "    .dataframe tbody tr th {\n",
       "        vertical-align: top;\n",
       "    }\n",
       "\n",
       "    .dataframe thead th {\n",
       "        text-align: right;\n",
       "    }\n",
       "</style>\n",
       "<table border=\"1\" class=\"dataframe\">\n",
       "  <thead>\n",
       "    <tr style=\"text-align: right;\">\n",
       "      <th></th>\n",
       "      <th>ad_id</th>\n",
       "      <th>event</th>\n",
       "      <th>event_number</th>\n",
       "    </tr>\n",
       "  </thead>\n",
       "  <tbody>\n",
       "    <tr>\n",
       "      <th>1</th>\n",
       "      <td>2</td>\n",
       "      <td>view</td>\n",
       "      <td>101</td>\n",
       "    </tr>\n",
       "    <tr>\n",
       "      <th>3</th>\n",
       "      <td>3</td>\n",
       "      <td>view</td>\n",
       "      <td>184</td>\n",
       "    </tr>\n",
       "    <tr>\n",
       "      <th>5</th>\n",
       "      <td>1902</td>\n",
       "      <td>view</td>\n",
       "      <td>41</td>\n",
       "    </tr>\n",
       "    <tr>\n",
       "      <th>6</th>\n",
       "      <td>2064</td>\n",
       "      <td>view</td>\n",
       "      <td>35</td>\n",
       "    </tr>\n",
       "    <tr>\n",
       "      <th>8</th>\n",
       "      <td>2132</td>\n",
       "      <td>view</td>\n",
       "      <td>58</td>\n",
       "    </tr>\n",
       "    <tr>\n",
       "      <th>...</th>\n",
       "      <td>...</td>\n",
       "      <td>...</td>\n",
       "      <td>...</td>\n",
       "    </tr>\n",
       "    <tr>\n",
       "      <th>1475</th>\n",
       "      <td>122004</td>\n",
       "      <td>view</td>\n",
       "      <td>100</td>\n",
       "    </tr>\n",
       "    <tr>\n",
       "      <th>1476</th>\n",
       "      <td>122013</td>\n",
       "      <td>view</td>\n",
       "      <td>156</td>\n",
       "    </tr>\n",
       "    <tr>\n",
       "      <th>1477</th>\n",
       "      <td>122023</td>\n",
       "      <td>view</td>\n",
       "      <td>68</td>\n",
       "    </tr>\n",
       "    <tr>\n",
       "      <th>1479</th>\n",
       "      <td>122031</td>\n",
       "      <td>view</td>\n",
       "      <td>138</td>\n",
       "    </tr>\n",
       "    <tr>\n",
       "      <th>1480</th>\n",
       "      <td>122078</td>\n",
       "      <td>view</td>\n",
       "      <td>42</td>\n",
       "    </tr>\n",
       "  </tbody>\n",
       "</table>\n",
       "<p>956 rows × 3 columns</p>\n",
       "</div>"
      ],
      "text/plain": [
       "       ad_id event  event_number\n",
       "1          2  view           101\n",
       "3          3  view           184\n",
       "5       1902  view            41\n",
       "6       2064  view            35\n",
       "8       2132  view            58\n",
       "...      ...   ...           ...\n",
       "1475  122004  view           100\n",
       "1476  122013  view           156\n",
       "1477  122023  view            68\n",
       "1479  122031  view           138\n",
       "1480  122078  view            42\n",
       "\n",
       "[956 rows x 3 columns]"
      ]
     },
     "execution_count": 42,
     "metadata": {},
     "output_type": "execute_result"
    }
   ],
   "source": [
    "views"
   ]
  },
  {
   "cell_type": "code",
   "execution_count": 44,
   "id": "dc832a93",
   "metadata": {},
   "outputs": [
    {
     "name": "stderr",
     "output_type": "stream",
     "text": [
      "<ipython-input-44-faa766f943fd>:1: SettingWithCopyWarning: \n",
      "A value is trying to be set on a copy of a slice from a DataFrame.\n",
      "Try using .loc[row_indexer,col_indexer] = value instead\n",
      "\n",
      "See the caveats in the documentation: https://pandas.pydata.org/pandas-docs/stable/user_guide/indexing.html#returning-a-view-versus-a-copy\n",
      "  views['logorifm'] = np.log(views.event_number)\n"
     ]
    }
   ],
   "source": [
    "views['logorifm'] = np.log(views.event_number)"
   ]
  },
  {
   "cell_type": "code",
   "execution_count": 45,
   "id": "6c3671b4",
   "metadata": {},
   "outputs": [
    {
     "data": {
      "text/html": [
       "<div>\n",
       "<style scoped>\n",
       "    .dataframe tbody tr th:only-of-type {\n",
       "        vertical-align: middle;\n",
       "    }\n",
       "\n",
       "    .dataframe tbody tr th {\n",
       "        vertical-align: top;\n",
       "    }\n",
       "\n",
       "    .dataframe thead th {\n",
       "        text-align: right;\n",
       "    }\n",
       "</style>\n",
       "<table border=\"1\" class=\"dataframe\">\n",
       "  <thead>\n",
       "    <tr style=\"text-align: right;\">\n",
       "      <th></th>\n",
       "      <th>ad_id</th>\n",
       "      <th>event</th>\n",
       "      <th>event_number</th>\n",
       "      <th>logorifm</th>\n",
       "    </tr>\n",
       "  </thead>\n",
       "  <tbody>\n",
       "    <tr>\n",
       "      <th>1</th>\n",
       "      <td>2</td>\n",
       "      <td>view</td>\n",
       "      <td>101</td>\n",
       "      <td>4.615121</td>\n",
       "    </tr>\n",
       "    <tr>\n",
       "      <th>3</th>\n",
       "      <td>3</td>\n",
       "      <td>view</td>\n",
       "      <td>184</td>\n",
       "      <td>5.214936</td>\n",
       "    </tr>\n",
       "    <tr>\n",
       "      <th>5</th>\n",
       "      <td>1902</td>\n",
       "      <td>view</td>\n",
       "      <td>41</td>\n",
       "      <td>3.713572</td>\n",
       "    </tr>\n",
       "    <tr>\n",
       "      <th>6</th>\n",
       "      <td>2064</td>\n",
       "      <td>view</td>\n",
       "      <td>35</td>\n",
       "      <td>3.555348</td>\n",
       "    </tr>\n",
       "    <tr>\n",
       "      <th>8</th>\n",
       "      <td>2132</td>\n",
       "      <td>view</td>\n",
       "      <td>58</td>\n",
       "      <td>4.060443</td>\n",
       "    </tr>\n",
       "    <tr>\n",
       "      <th>...</th>\n",
       "      <td>...</td>\n",
       "      <td>...</td>\n",
       "      <td>...</td>\n",
       "      <td>...</td>\n",
       "    </tr>\n",
       "    <tr>\n",
       "      <th>1475</th>\n",
       "      <td>122004</td>\n",
       "      <td>view</td>\n",
       "      <td>100</td>\n",
       "      <td>4.605170</td>\n",
       "    </tr>\n",
       "    <tr>\n",
       "      <th>1476</th>\n",
       "      <td>122013</td>\n",
       "      <td>view</td>\n",
       "      <td>156</td>\n",
       "      <td>5.049856</td>\n",
       "    </tr>\n",
       "    <tr>\n",
       "      <th>1477</th>\n",
       "      <td>122023</td>\n",
       "      <td>view</td>\n",
       "      <td>68</td>\n",
       "      <td>4.219508</td>\n",
       "    </tr>\n",
       "    <tr>\n",
       "      <th>1479</th>\n",
       "      <td>122031</td>\n",
       "      <td>view</td>\n",
       "      <td>138</td>\n",
       "      <td>4.927254</td>\n",
       "    </tr>\n",
       "    <tr>\n",
       "      <th>1480</th>\n",
       "      <td>122078</td>\n",
       "      <td>view</td>\n",
       "      <td>42</td>\n",
       "      <td>3.737670</td>\n",
       "    </tr>\n",
       "  </tbody>\n",
       "</table>\n",
       "<p>956 rows × 4 columns</p>\n",
       "</div>"
      ],
      "text/plain": [
       "       ad_id event  event_number  logorifm\n",
       "1          2  view           101  4.615121\n",
       "3          3  view           184  5.214936\n",
       "5       1902  view            41  3.713572\n",
       "6       2064  view            35  3.555348\n",
       "8       2132  view            58  4.060443\n",
       "...      ...   ...           ...       ...\n",
       "1475  122004  view           100  4.605170\n",
       "1476  122013  view           156  5.049856\n",
       "1477  122023  view            68  4.219508\n",
       "1479  122031  view           138  4.927254\n",
       "1480  122078  view            42  3.737670\n",
       "\n",
       "[956 rows x 4 columns]"
      ]
     },
     "execution_count": 45,
     "metadata": {},
     "output_type": "execute_result"
    }
   ],
   "source": [
    "views"
   ]
  },
  {
   "cell_type": "code",
   "execution_count": 46,
   "id": "6e2452a4",
   "metadata": {},
   "outputs": [
    {
     "name": "stderr",
     "output_type": "stream",
     "text": [
      "C:\\ProgramData\\Anaconda3\\lib\\site-packages\\seaborn\\distributions.py:2557: FutureWarning: `distplot` is a deprecated function and will be removed in a future version. Please adapt your code to use either `displot` (a figure-level function with similar flexibility) or `histplot` (an axes-level function for histograms).\n",
      "  warnings.warn(msg, FutureWarning)\n"
     ]
    },
    {
     "data": {
      "text/plain": [
       "<AxesSubplot:xlabel='logorifm', ylabel='Density'>"
      ]
     },
     "execution_count": 46,
     "metadata": {},
     "output_type": "execute_result"
    },
    {
     "data": {
      "image/png": "[encoded data removed]",
      "text/plain": [
       "<Figure size 432x288 with 1 Axes>"
      ]
     },
     "metadata": {
      "needs_background": "light"
     },
     "output_type": "display_data"
    }
   ],
   "source": [
    "sns.distplot(views.logorifm)"
   ]
  },
  {
   "cell_type": "code",
   "execution_count": 50,
   "id": "5d350ba1",
   "metadata": {},
   "outputs": [
    {
     "data": {
      "text/html": [
       "<div>\n",
       "<style scoped>\n",
       "    .dataframe tbody tr th:only-of-type {\n",
       "        vertical-align: middle;\n",
       "    }\n",
       "\n",
       "    .dataframe tbody tr th {\n",
       "        vertical-align: top;\n",
       "    }\n",
       "\n",
       "    .dataframe thead th {\n",
       "        text-align: right;\n",
       "    }\n",
       "</style>\n",
       "<table border=\"1\" class=\"dataframe\">\n",
       "  <thead>\n",
       "    <tr style=\"text-align: right;\">\n",
       "      <th></th>\n",
       "      <th>date</th>\n",
       "      <th>time</th>\n",
       "      <th>event</th>\n",
       "      <th>platform</th>\n",
       "      <th>ad_id</th>\n",
       "      <th>client_union_id</th>\n",
       "      <th>campaign_union_id</th>\n",
       "      <th>ad_cost_type</th>\n",
       "      <th>ad_cost</th>\n",
       "      <th>has_video</th>\n",
       "      <th>target_audience_count</th>\n",
       "    </tr>\n",
       "  </thead>\n",
       "  <tbody>\n",
       "    <tr>\n",
       "      <th>0</th>\n",
       "      <td>2019-04-01</td>\n",
       "      <td>2019-04-01 00:00:48</td>\n",
       "      <td>view</td>\n",
       "      <td>android</td>\n",
       "      <td>45061</td>\n",
       "      <td>34734</td>\n",
       "      <td>45061</td>\n",
       "      <td>CPM</td>\n",
       "      <td>200.6</td>\n",
       "      <td>0</td>\n",
       "      <td>1955269</td>\n",
       "    </tr>\n",
       "    <tr>\n",
       "      <th>1</th>\n",
       "      <td>2019-04-01</td>\n",
       "      <td>2019-04-01 00:00:48</td>\n",
       "      <td>view</td>\n",
       "      <td>web</td>\n",
       "      <td>121288</td>\n",
       "      <td>121288</td>\n",
       "      <td>121288</td>\n",
       "      <td>CPM</td>\n",
       "      <td>187.4</td>\n",
       "      <td>0</td>\n",
       "      <td>232011</td>\n",
       "    </tr>\n",
       "    <tr>\n",
       "      <th>2</th>\n",
       "      <td>2019-04-01</td>\n",
       "      <td>2019-04-01 00:01:03</td>\n",
       "      <td>view</td>\n",
       "      <td>android</td>\n",
       "      <td>102737</td>\n",
       "      <td>102535</td>\n",
       "      <td>102564</td>\n",
       "      <td>CPC</td>\n",
       "      <td>60.7</td>\n",
       "      <td>0</td>\n",
       "      <td>4410</td>\n",
       "    </tr>\n",
       "    <tr>\n",
       "      <th>3</th>\n",
       "      <td>2019-04-01</td>\n",
       "      <td>2019-04-01 00:01:03</td>\n",
       "      <td>view</td>\n",
       "      <td>android</td>\n",
       "      <td>107564</td>\n",
       "      <td>106914</td>\n",
       "      <td>107564</td>\n",
       "      <td>CPM</td>\n",
       "      <td>217.3</td>\n",
       "      <td>0</td>\n",
       "      <td>62711</td>\n",
       "    </tr>\n",
       "    <tr>\n",
       "      <th>4</th>\n",
       "      <td>2019-04-01</td>\n",
       "      <td>2019-04-01 00:01:09</td>\n",
       "      <td>view</td>\n",
       "      <td>android</td>\n",
       "      <td>4922</td>\n",
       "      <td>37</td>\n",
       "      <td>4400</td>\n",
       "      <td>CPC</td>\n",
       "      <td>60.1</td>\n",
       "      <td>0</td>\n",
       "      <td>1183501</td>\n",
       "    </tr>\n",
       "    <tr>\n",
       "      <th>...</th>\n",
       "      <td>...</td>\n",
       "      <td>...</td>\n",
       "      <td>...</td>\n",
       "      <td>...</td>\n",
       "      <td>...</td>\n",
       "      <td>...</td>\n",
       "      <td>...</td>\n",
       "      <td>...</td>\n",
       "      <td>...</td>\n",
       "      <td>...</td>\n",
       "      <td>...</td>\n",
       "    </tr>\n",
       "    <tr>\n",
       "      <th>999995</th>\n",
       "      <td>2019-04-05</td>\n",
       "      <td>2019-04-05 20:59:52</td>\n",
       "      <td>view</td>\n",
       "      <td>web</td>\n",
       "      <td>112583</td>\n",
       "      <td>111818</td>\n",
       "      <td>112260</td>\n",
       "      <td>CPM</td>\n",
       "      <td>210.1</td>\n",
       "      <td>0</td>\n",
       "      <td>22392</td>\n",
       "    </tr>\n",
       "    <tr>\n",
       "      <th>999996</th>\n",
       "      <td>2019-04-05</td>\n",
       "      <td>2019-04-05 20:59:52</td>\n",
       "      <td>view</td>\n",
       "      <td>android</td>\n",
       "      <td>112583</td>\n",
       "      <td>111818</td>\n",
       "      <td>112260</td>\n",
       "      <td>CPM</td>\n",
       "      <td>210.1</td>\n",
       "      <td>0</td>\n",
       "      <td>22392</td>\n",
       "    </tr>\n",
       "    <tr>\n",
       "      <th>999997</th>\n",
       "      <td>2019-04-05</td>\n",
       "      <td>2019-04-05 20:59:52</td>\n",
       "      <td>click</td>\n",
       "      <td>web</td>\n",
       "      <td>112583</td>\n",
       "      <td>111818</td>\n",
       "      <td>112260</td>\n",
       "      <td>CPM</td>\n",
       "      <td>210.1</td>\n",
       "      <td>0</td>\n",
       "      <td>22392</td>\n",
       "    </tr>\n",
       "    <tr>\n",
       "      <th>999998</th>\n",
       "      <td>2019-04-05</td>\n",
       "      <td>2019-04-05 20:59:52</td>\n",
       "      <td>view</td>\n",
       "      <td>web</td>\n",
       "      <td>113350</td>\n",
       "      <td>113036</td>\n",
       "      <td>113251</td>\n",
       "      <td>CPM</td>\n",
       "      <td>183.3</td>\n",
       "      <td>0</td>\n",
       "      <td>571929</td>\n",
       "    </tr>\n",
       "    <tr>\n",
       "      <th>999999</th>\n",
       "      <td>2019-04-05</td>\n",
       "      <td>2019-04-05 20:59:52</td>\n",
       "      <td>view</td>\n",
       "      <td>android</td>\n",
       "      <td>117353</td>\n",
       "      <td>117350</td>\n",
       "      <td>117353</td>\n",
       "      <td>CPM</td>\n",
       "      <td>207.5</td>\n",
       "      <td>1</td>\n",
       "      <td>167598</td>\n",
       "    </tr>\n",
       "  </tbody>\n",
       "</table>\n",
       "<p>1000000 rows × 11 columns</p>\n",
       "</div>"
      ],
      "text/plain": [
       "              date                 time  event platform   ad_id  \\\n",
       "0       2019-04-01  2019-04-01 00:00:48   view  android   45061   \n",
       "1       2019-04-01  2019-04-01 00:00:48   view      web  121288   \n",
       "2       2019-04-01  2019-04-01 00:01:03   view  android  102737   \n",
       "3       2019-04-01  2019-04-01 00:01:03   view  android  107564   \n",
       "4       2019-04-01  2019-04-01 00:01:09   view  android    4922   \n",
       "...            ...                  ...    ...      ...     ...   \n",
       "999995  2019-04-05  2019-04-05 20:59:52   view      web  112583   \n",
       "999996  2019-04-05  2019-04-05 20:59:52   view  android  112583   \n",
       "999997  2019-04-05  2019-04-05 20:59:52  click      web  112583   \n",
       "999998  2019-04-05  2019-04-05 20:59:52   view      web  113350   \n",
       "999999  2019-04-05  2019-04-05 20:59:52   view  android  117353   \n",
       "\n",
       "        client_union_id  campaign_union_id ad_cost_type  ad_cost  has_video  \\\n",
       "0                 34734              45061          CPM    200.6          0   \n",
       "1                121288             121288          CPM    187.4          0   \n",
       "2                102535             102564          CPC     60.7          0   \n",
       "3                106914             107564          CPM    217.3          0   \n",
       "4                    37               4400          CPC     60.1          0   \n",
       "...                 ...                ...          ...      ...        ...   \n",
       "999995           111818             112260          CPM    210.1          0   \n",
       "999996           111818             112260          CPM    210.1          0   \n",
       "999997           111818             112260          CPM    210.1          0   \n",
       "999998           113036             113251          CPM    183.3          0   \n",
       "999999           117350             117353          CPM    207.5          1   \n",
       "\n",
       "        target_audience_count  \n",
       "0                     1955269  \n",
       "1                      232011  \n",
       "2                        4410  \n",
       "3                       62711  \n",
       "4                     1183501  \n",
       "...                       ...  \n",
       "999995                  22392  \n",
       "999996                  22392  \n",
       "999997                  22392  \n",
       "999998                 571929  \n",
       "999999                 167598  \n",
       "\n",
       "[1000000 rows x 11 columns]"
      ]
     },
     "execution_count": 50,
     "metadata": {},
     "output_type": "execute_result"
    }
   ],
   "source": [
    "df"
   ]
  },
  {
   "cell_type": "code",
   "execution_count": 69,
   "id": "a68b9ec2",
   "metadata": {},
   "outputs": [],
   "source": [
    "view_per_day = df.query('event == \"view\"') \\\n",
    "    .pivot_table(index='ad_id', columns='date', values='time', aggfunc='count')"
   ]
  },
  {
   "cell_type": "code",
   "execution_count": 101,
   "id": "5c0329be",
   "metadata": {},
   "outputs": [
    {
     "data": {
      "text/html": [
       "<div>\n",
       "<style scoped>\n",
       "    .dataframe tbody tr th:only-of-type {\n",
       "        vertical-align: middle;\n",
       "    }\n",
       "\n",
       "    .dataframe tbody tr th {\n",
       "        vertical-align: top;\n",
       "    }\n",
       "\n",
       "    .dataframe thead th {\n",
       "        text-align: right;\n",
       "    }\n",
       "</style>\n",
       "<table border=\"1\" class=\"dataframe\">\n",
       "  <thead>\n",
       "    <tr style=\"text-align: right;\">\n",
       "      <th>date</th>\n",
       "      <th>2019-04-01</th>\n",
       "      <th>2019-04-02</th>\n",
       "      <th>2019-04-03</th>\n",
       "      <th>2019-04-04</th>\n",
       "      <th>2019-04-05</th>\n",
       "      <th>2019-04-06</th>\n",
       "    </tr>\n",
       "    <tr>\n",
       "      <th>ad_id</th>\n",
       "      <th></th>\n",
       "      <th></th>\n",
       "      <th></th>\n",
       "      <th></th>\n",
       "      <th></th>\n",
       "      <th></th>\n",
       "    </tr>\n",
       "  </thead>\n",
       "  <tbody>\n",
       "    <tr>\n",
       "      <th>2</th>\n",
       "      <td>83.0</td>\n",
       "      <td>18.0</td>\n",
       "      <td>NaN</td>\n",
       "      <td>NaN</td>\n",
       "      <td>NaN</td>\n",
       "      <td>NaN</td>\n",
       "    </tr>\n",
       "    <tr>\n",
       "      <th>3</th>\n",
       "      <td>158.0</td>\n",
       "      <td>26.0</td>\n",
       "      <td>NaN</td>\n",
       "      <td>NaN</td>\n",
       "      <td>NaN</td>\n",
       "      <td>NaN</td>\n",
       "    </tr>\n",
       "    <tr>\n",
       "      <th>1902</th>\n",
       "      <td>NaN</td>\n",
       "      <td>NaN</td>\n",
       "      <td>34.0</td>\n",
       "      <td>7.0</td>\n",
       "      <td>NaN</td>\n",
       "      <td>NaN</td>\n",
       "    </tr>\n",
       "    <tr>\n",
       "      <th>2064</th>\n",
       "      <td>NaN</td>\n",
       "      <td>28.0</td>\n",
       "      <td>7.0</td>\n",
       "      <td>NaN</td>\n",
       "      <td>NaN</td>\n",
       "      <td>NaN</td>\n",
       "    </tr>\n",
       "    <tr>\n",
       "      <th>2132</th>\n",
       "      <td>NaN</td>\n",
       "      <td>NaN</td>\n",
       "      <td>25.0</td>\n",
       "      <td>27.0</td>\n",
       "      <td>6.0</td>\n",
       "      <td>NaN</td>\n",
       "    </tr>\n",
       "    <tr>\n",
       "      <th>...</th>\n",
       "      <td>...</td>\n",
       "      <td>...</td>\n",
       "      <td>...</td>\n",
       "      <td>...</td>\n",
       "      <td>...</td>\n",
       "      <td>...</td>\n",
       "    </tr>\n",
       "    <tr>\n",
       "      <th>122004</th>\n",
       "      <td>85.0</td>\n",
       "      <td>15.0</td>\n",
       "      <td>NaN</td>\n",
       "      <td>NaN</td>\n",
       "      <td>NaN</td>\n",
       "      <td>NaN</td>\n",
       "    </tr>\n",
       "    <tr>\n",
       "      <th>122013</th>\n",
       "      <td>NaN</td>\n",
       "      <td>NaN</td>\n",
       "      <td>NaN</td>\n",
       "      <td>134.0</td>\n",
       "      <td>22.0</td>\n",
       "      <td>NaN</td>\n",
       "    </tr>\n",
       "    <tr>\n",
       "      <th>122023</th>\n",
       "      <td>NaN</td>\n",
       "      <td>NaN</td>\n",
       "      <td>NaN</td>\n",
       "      <td>53.0</td>\n",
       "      <td>15.0</td>\n",
       "      <td>NaN</td>\n",
       "    </tr>\n",
       "    <tr>\n",
       "      <th>122031</th>\n",
       "      <td>NaN</td>\n",
       "      <td>NaN</td>\n",
       "      <td>NaN</td>\n",
       "      <td>NaN</td>\n",
       "      <td>119.0</td>\n",
       "      <td>19.0</td>\n",
       "    </tr>\n",
       "    <tr>\n",
       "      <th>122078</th>\n",
       "      <td>NaN</td>\n",
       "      <td>NaN</td>\n",
       "      <td>36.0</td>\n",
       "      <td>6.0</td>\n",
       "      <td>NaN</td>\n",
       "      <td>NaN</td>\n",
       "    </tr>\n",
       "  </tbody>\n",
       "</table>\n",
       "<p>956 rows × 6 columns</p>\n",
       "</div>"
      ],
      "text/plain": [
       "date    2019-04-01  2019-04-02  2019-04-03  2019-04-04  2019-04-05  2019-04-06\n",
       "ad_id                                                                         \n",
       "2             83.0        18.0         NaN         NaN         NaN         NaN\n",
       "3            158.0        26.0         NaN         NaN         NaN         NaN\n",
       "1902           NaN         NaN        34.0         7.0         NaN         NaN\n",
       "2064           NaN        28.0         7.0         NaN         NaN         NaN\n",
       "2132           NaN         NaN        25.0        27.0         6.0         NaN\n",
       "...            ...         ...         ...         ...         ...         ...\n",
       "122004        85.0        15.0         NaN         NaN         NaN         NaN\n",
       "122013         NaN         NaN         NaN       134.0        22.0         NaN\n",
       "122023         NaN         NaN         NaN        53.0        15.0         NaN\n",
       "122031         NaN         NaN         NaN         NaN       119.0        19.0\n",
       "122078         NaN         NaN        36.0         6.0         NaN         NaN\n",
       "\n",
       "[956 rows x 6 columns]"
      ]
     },
     "execution_count": 101,
     "metadata": {},
     "output_type": "execute_result"
    }
   ],
   "source": [
    "view_per_day"
   ]
  },
  {
   "cell_type": "code",
   "execution_count": 73,
   "id": "baf8dc61",
   "metadata": {},
   "outputs": [
    {
     "data": {
      "text/plain": [
       "date\n",
       "2019-04-01           NaN\n",
       "2019-04-02    146.134626\n",
       "2019-04-03    150.869880\n",
       "2019-04-04    419.927249\n",
       "2019-04-05    797.505699\n",
       "2019-04-06    598.116202\n",
       "dtype: float64"
      ]
     },
     "execution_count": 73,
     "metadata": {},
     "output_type": "execute_result"
    }
   ],
   "source": [
    "view_per_day.mean().rolling(2).mean()"
   ]
  },
  {
   "cell_type": "code",
   "execution_count": 74,
   "id": "498279c2",
   "metadata": {},
   "outputs": [],
   "source": [
    "mean_views = view_per_day.mean()"
   ]
  },
  {
   "cell_type": "code",
   "execution_count": 75,
   "id": "be80c2d1",
   "metadata": {},
   "outputs": [
    {
     "data": {
      "text/plain": [
       "date\n",
       "2019-04-01    154.482270\n",
       "2019-04-02    137.786982\n",
       "2019-04-03    163.952778\n",
       "2019-04-04    675.901720\n",
       "2019-04-05    919.109677\n",
       "2019-04-06    277.122727\n",
       "dtype: float64"
      ]
     },
     "execution_count": 75,
     "metadata": {},
     "output_type": "execute_result"
    }
   ],
   "source": [
    "mean_views"
   ]
  },
  {
   "cell_type": "code",
   "execution_count": 76,
   "id": "8386b911",
   "metadata": {},
   "outputs": [],
   "source": [
    "rolling_mean_views = mean_views.rolling(2).mean()"
   ]
  },
  {
   "cell_type": "code",
   "execution_count": 77,
   "id": "30647084",
   "metadata": {},
   "outputs": [
    {
     "data": {
      "text/plain": [
       "date\n",
       "2019-04-01           NaN\n",
       "2019-04-02    146.134626\n",
       "2019-04-03    150.869880\n",
       "2019-04-04    419.927249\n",
       "2019-04-05    797.505699\n",
       "2019-04-06    598.116202\n",
       "dtype: float64"
      ]
     },
     "execution_count": 77,
     "metadata": {},
     "output_type": "execute_result"
    }
   ],
   "source": [
    "rolling_mean_views"
   ]
  },
  {
   "cell_type": "code",
   "execution_count": 80,
   "id": "d6eca455",
   "metadata": {},
   "outputs": [
    {
     "data": {
      "text/plain": [
       "<AxesSubplot:xlabel='date'>"
      ]
     },
     "execution_count": 80,
     "metadata": {},
     "output_type": "execute_result"
    },
    {
     "data": {
      "image/png": "[encoded data removed]",
      "text/plain": [
       "<Figure size 432x288 with 1 Axes>"
      ]
     },
     "metadata": {
      "needs_background": "light"
     },
     "output_type": "display_data"
    }
   ],
   "source": [
    "sns.lineplot(data=mean_views, label='mean')\n",
    "sns.lineplot(data=rolling_mean_views, label='rolling mean')"
   ]
  },
  {
   "cell_type": "code",
   "execution_count": 85,
   "id": "9a57861d",
   "metadata": {},
   "outputs": [],
   "source": [
    "#Дата з аномалією\n",
    "anomaly_day = (mean_views - rolling_mean_views).abs().idxmax()"
   ]
  },
  {
   "cell_type": "code",
   "execution_count": 97,
   "id": "385c0822",
   "metadata": {},
   "outputs": [],
   "source": [
    "difference_value = mean_views.subtract(rolling_mean_views) [anomaly_day]"
   ]
  },
  {
   "cell_type": "code",
   "execution_count": 99,
   "id": "2d18ce2b",
   "metadata": {},
   "outputs": [],
   "source": [
    "if difference_value <= 0:\n",
    "    anomaly_id = view_per_day[anomaly_day].idxmax()\n",
    "else:\n",
    "    anomaly_id = view_per_day[anomaly_day].idxmin()"
   ]
  },
  {
   "cell_type": "code",
   "execution_count": 100,
   "id": "d0bb5c53",
   "metadata": {},
   "outputs": [
    {
     "data": {
      "text/plain": [
       "112583"
      ]
     },
     "execution_count": 100,
     "metadata": {},
     "output_type": "execute_result"
    }
   ],
   "source": [
    "anomaly_id"
   ]
  },
  {
   "cell_type": "code",
   "execution_count": 84,
   "id": "e3d13371",
   "metadata": {},
   "outputs": [
    {
     "data": {
      "text/plain": [
       "ad_id\n",
       "2          NaN\n",
       "3          NaN\n",
       "1902       NaN\n",
       "2064       NaN\n",
       "2132       NaN\n",
       "          ... \n",
       "122004     NaN\n",
       "122013     NaN\n",
       "122023     NaN\n",
       "122031    19.0\n",
       "122078     NaN\n",
       "Name: 2019-04-06, Length: 956, dtype: float64"
      ]
     },
     "execution_count": 84,
     "metadata": {},
     "output_type": "execute_result"
    }
   ],
   "source": [
    "view_per_day['2019-04-06']"
   ]
  },
  {
   "cell_type": "code",
   "execution_count": 105,
   "id": "4198e6bd",
   "metadata": {},
   "outputs": [],
   "source": [
    "def find_anomaly_id(ad_view_per_day):\n",
    "    mean_views = ad_view_per_day.mean()\n",
    "    mean_difference = mean_views.subtract(rolling_mean_views)\n",
    "    anomaly_day = mean_difference.abs().idxmax()\n",
    "    difference_value = mean_difference [anomaly_day]\n",
    "    if difference_value <= 0:\n",
    "        anomaly_id = ad_view_per_day[anomaly_day].idxmax()\n",
    "    else:\n",
    "        anomaly_id = ad_view_per_day[anomaly_day].idxmin()\n",
    "        \n",
    "    return anomaly_id"
   ]
  },
  {
   "cell_type": "code",
   "execution_count": 103,
   "id": "d15cbaad",
   "metadata": {
    "scrolled": true
   },
   "outputs": [
    {
     "data": {
      "text/html": [
       "<div>\n",
       "<style scoped>\n",
       "    .dataframe tbody tr th:only-of-type {\n",
       "        vertical-align: middle;\n",
       "    }\n",
       "\n",
       "    .dataframe tbody tr th {\n",
       "        vertical-align: top;\n",
       "    }\n",
       "\n",
       "    .dataframe thead th {\n",
       "        text-align: right;\n",
       "    }\n",
       "</style>\n",
       "<table border=\"1\" class=\"dataframe\">\n",
       "  <thead>\n",
       "    <tr style=\"text-align: right;\">\n",
       "      <th>date</th>\n",
       "      <th>2019-04-01</th>\n",
       "      <th>2019-04-02</th>\n",
       "      <th>2019-04-03</th>\n",
       "      <th>2019-04-04</th>\n",
       "      <th>2019-04-05</th>\n",
       "      <th>2019-04-06</th>\n",
       "    </tr>\n",
       "    <tr>\n",
       "      <th>ad_id</th>\n",
       "      <th></th>\n",
       "      <th></th>\n",
       "      <th></th>\n",
       "      <th></th>\n",
       "      <th></th>\n",
       "      <th></th>\n",
       "    </tr>\n",
       "  </thead>\n",
       "  <tbody>\n",
       "    <tr>\n",
       "      <th>2</th>\n",
       "      <td>83.0</td>\n",
       "      <td>18.0</td>\n",
       "      <td>NaN</td>\n",
       "      <td>NaN</td>\n",
       "      <td>NaN</td>\n",
       "      <td>NaN</td>\n",
       "    </tr>\n",
       "    <tr>\n",
       "      <th>3</th>\n",
       "      <td>158.0</td>\n",
       "      <td>26.0</td>\n",
       "      <td>NaN</td>\n",
       "      <td>NaN</td>\n",
       "      <td>NaN</td>\n",
       "      <td>NaN</td>\n",
       "    </tr>\n",
       "    <tr>\n",
       "      <th>1902</th>\n",
       "      <td>NaN</td>\n",
       "      <td>NaN</td>\n",
       "      <td>34.0</td>\n",
       "      <td>7.0</td>\n",
       "      <td>NaN</td>\n",
       "      <td>NaN</td>\n",
       "    </tr>\n",
       "    <tr>\n",
       "      <th>2064</th>\n",
       "      <td>NaN</td>\n",
       "      <td>28.0</td>\n",
       "      <td>7.0</td>\n",
       "      <td>NaN</td>\n",
       "      <td>NaN</td>\n",
       "      <td>NaN</td>\n",
       "    </tr>\n",
       "    <tr>\n",
       "      <th>2132</th>\n",
       "      <td>NaN</td>\n",
       "      <td>NaN</td>\n",
       "      <td>25.0</td>\n",
       "      <td>27.0</td>\n",
       "      <td>6.0</td>\n",
       "      <td>NaN</td>\n",
       "    </tr>\n",
       "    <tr>\n",
       "      <th>...</th>\n",
       "      <td>...</td>\n",
       "      <td>...</td>\n",
       "      <td>...</td>\n",
       "      <td>...</td>\n",
       "      <td>...</td>\n",
       "      <td>...</td>\n",
       "    </tr>\n",
       "    <tr>\n",
       "      <th>122004</th>\n",
       "      <td>85.0</td>\n",
       "      <td>15.0</td>\n",
       "      <td>NaN</td>\n",
       "      <td>NaN</td>\n",
       "      <td>NaN</td>\n",
       "      <td>NaN</td>\n",
       "    </tr>\n",
       "    <tr>\n",
       "      <th>122013</th>\n",
       "      <td>NaN</td>\n",
       "      <td>NaN</td>\n",
       "      <td>NaN</td>\n",
       "      <td>134.0</td>\n",
       "      <td>22.0</td>\n",
       "      <td>NaN</td>\n",
       "    </tr>\n",
       "    <tr>\n",
       "      <th>122023</th>\n",
       "      <td>NaN</td>\n",
       "      <td>NaN</td>\n",
       "      <td>NaN</td>\n",
       "      <td>53.0</td>\n",
       "      <td>15.0</td>\n",
       "      <td>NaN</td>\n",
       "    </tr>\n",
       "    <tr>\n",
       "      <th>122031</th>\n",
       "      <td>NaN</td>\n",
       "      <td>NaN</td>\n",
       "      <td>NaN</td>\n",
       "      <td>NaN</td>\n",
       "      <td>119.0</td>\n",
       "      <td>19.0</td>\n",
       "    </tr>\n",
       "    <tr>\n",
       "      <th>122078</th>\n",
       "      <td>NaN</td>\n",
       "      <td>NaN</td>\n",
       "      <td>36.0</td>\n",
       "      <td>6.0</td>\n",
       "      <td>NaN</td>\n",
       "      <td>NaN</td>\n",
       "    </tr>\n",
       "  </tbody>\n",
       "</table>\n",
       "<p>956 rows × 6 columns</p>\n",
       "</div>"
      ],
      "text/plain": [
       "date    2019-04-01  2019-04-02  2019-04-03  2019-04-04  2019-04-05  2019-04-06\n",
       "ad_id                                                                         \n",
       "2             83.0        18.0         NaN         NaN         NaN         NaN\n",
       "3            158.0        26.0         NaN         NaN         NaN         NaN\n",
       "1902           NaN         NaN        34.0         7.0         NaN         NaN\n",
       "2064           NaN        28.0         7.0         NaN         NaN         NaN\n",
       "2132           NaN         NaN        25.0        27.0         6.0         NaN\n",
       "...            ...         ...         ...         ...         ...         ...\n",
       "122004        85.0        15.0         NaN         NaN         NaN         NaN\n",
       "122013         NaN         NaN         NaN       134.0        22.0         NaN\n",
       "122023         NaN         NaN         NaN        53.0        15.0         NaN\n",
       "122031         NaN         NaN         NaN         NaN       119.0        19.0\n",
       "122078         NaN         NaN        36.0         6.0         NaN         NaN\n",
       "\n",
       "[956 rows x 6 columns]"
      ]
     },
     "execution_count": 103,
     "metadata": {},
     "output_type": "execute_result"
    }
   ],
   "source": [
    "view_per_day"
   ]
  },
  {
   "cell_type": "code",
   "execution_count": 108,
   "id": "b23176f1",
   "metadata": {},
   "outputs": [],
   "source": [
    "#next level"
   ]
  },
  {
   "cell_type": "code",
   "execution_count": 106,
   "id": "efd96ef1",
   "metadata": {},
   "outputs": [
    {
     "data": {
      "text/plain": [
       "112583"
      ]
     },
     "execution_count": 106,
     "metadata": {},
     "output_type": "execute_result"
    }
   ],
   "source": [
    "find_anomaly_id(view_per_day)"
   ]
  },
  {
   "cell_type": "code",
   "execution_count": 107,
   "id": "8a6ccf07",
   "metadata": {},
   "outputs": [
    {
     "data": {
      "text/html": [
       "<div>\n",
       "<style scoped>\n",
       "    .dataframe tbody tr th:only-of-type {\n",
       "        vertical-align: middle;\n",
       "    }\n",
       "\n",
       "    .dataframe tbody tr th {\n",
       "        vertical-align: top;\n",
       "    }\n",
       "\n",
       "    .dataframe thead th {\n",
       "        text-align: right;\n",
       "    }\n",
       "</style>\n",
       "<table border=\"1\" class=\"dataframe\">\n",
       "  <thead>\n",
       "    <tr style=\"text-align: right;\">\n",
       "      <th></th>\n",
       "      <th>date</th>\n",
       "      <th>client_union_id</th>\n",
       "      <th>community_id</th>\n",
       "      <th>create_date</th>\n",
       "    </tr>\n",
       "  </thead>\n",
       "  <tbody>\n",
       "    <tr>\n",
       "      <th>0</th>\n",
       "      <td>2020-05-07</td>\n",
       "      <td>1</td>\n",
       "      <td>-130371893</td>\n",
       "      <td>2018-12-24</td>\n",
       "    </tr>\n",
       "    <tr>\n",
       "      <th>1</th>\n",
       "      <td>2020-05-07</td>\n",
       "      <td>2</td>\n",
       "      <td>-130304626</td>\n",
       "      <td>2019-02-10</td>\n",
       "    </tr>\n",
       "    <tr>\n",
       "      <th>2</th>\n",
       "      <td>2020-05-07</td>\n",
       "      <td>3</td>\n",
       "      <td>-130462599</td>\n",
       "      <td>2019-01-25</td>\n",
       "    </tr>\n",
       "    <tr>\n",
       "      <th>3</th>\n",
       "      <td>2020-05-07</td>\n",
       "      <td>4</td>\n",
       "      <td>-130574300</td>\n",
       "      <td>2018-12-09</td>\n",
       "    </tr>\n",
       "    <tr>\n",
       "      <th>4</th>\n",
       "      <td>2020-05-07</td>\n",
       "      <td>5</td>\n",
       "      <td>-130292358</td>\n",
       "      <td>2019-01-08</td>\n",
       "    </tr>\n",
       "    <tr>\n",
       "      <th>...</th>\n",
       "      <td>...</td>\n",
       "      <td>...</td>\n",
       "      <td>...</td>\n",
       "      <td>...</td>\n",
       "    </tr>\n",
       "    <tr>\n",
       "      <th>122073</th>\n",
       "      <td>2020-05-07</td>\n",
       "      <td>122074</td>\n",
       "      <td>-130470790</td>\n",
       "      <td>2018-12-21</td>\n",
       "    </tr>\n",
       "    <tr>\n",
       "      <th>122074</th>\n",
       "      <td>2020-05-07</td>\n",
       "      <td>122075</td>\n",
       "      <td>-130911261</td>\n",
       "      <td>2018-11-09</td>\n",
       "    </tr>\n",
       "    <tr>\n",
       "      <th>122075</th>\n",
       "      <td>2020-05-07</td>\n",
       "      <td>122076</td>\n",
       "      <td>-130494912</td>\n",
       "      <td>2018-10-27</td>\n",
       "    </tr>\n",
       "    <tr>\n",
       "      <th>122076</th>\n",
       "      <td>2020-05-07</td>\n",
       "      <td>122077</td>\n",
       "      <td>-130910585</td>\n",
       "      <td>2018-12-05</td>\n",
       "    </tr>\n",
       "    <tr>\n",
       "      <th>122077</th>\n",
       "      <td>2020-05-07</td>\n",
       "      <td>122078</td>\n",
       "      <td>-130558729</td>\n",
       "      <td>2019-01-22</td>\n",
       "    </tr>\n",
       "  </tbody>\n",
       "</table>\n",
       "<p>122078 rows × 4 columns</p>\n",
       "</div>"
      ],
      "text/plain": [
       "              date  client_union_id  community_id create_date\n",
       "0       2020-05-07                1    -130371893  2018-12-24\n",
       "1       2020-05-07                2    -130304626  2019-02-10\n",
       "2       2020-05-07                3    -130462599  2019-01-25\n",
       "3       2020-05-07                4    -130574300  2018-12-09\n",
       "4       2020-05-07                5    -130292358  2019-01-08\n",
       "...            ...              ...           ...         ...\n",
       "122073  2020-05-07           122074    -130470790  2018-12-21\n",
       "122074  2020-05-07           122075    -130911261  2018-11-09\n",
       "122075  2020-05-07           122076    -130494912  2018-10-27\n",
       "122076  2020-05-07           122077    -130910585  2018-12-05\n",
       "122077  2020-05-07           122078    -130558729  2019-01-22\n",
       "\n",
       "[122078 rows x 4 columns]"
      ]
     },
     "execution_count": 107,
     "metadata": {},
     "output_type": "execute_result"
    }
   ],
   "source": [
    "df_client"
   ]
  },
  {
   "cell_type": "code",
   "execution_count": 109,
   "id": "20fc933b",
   "metadata": {},
   "outputs": [
    {
     "data": {
      "text/html": [
       "<div>\n",
       "<style scoped>\n",
       "    .dataframe tbody tr th:only-of-type {\n",
       "        vertical-align: middle;\n",
       "    }\n",
       "\n",
       "    .dataframe tbody tr th {\n",
       "        vertical-align: top;\n",
       "    }\n",
       "\n",
       "    .dataframe thead th {\n",
       "        text-align: right;\n",
       "    }\n",
       "</style>\n",
       "<table border=\"1\" class=\"dataframe\">\n",
       "  <thead>\n",
       "    <tr style=\"text-align: right;\">\n",
       "      <th></th>\n",
       "      <th>date</th>\n",
       "      <th>time</th>\n",
       "      <th>event</th>\n",
       "      <th>platform</th>\n",
       "      <th>ad_id</th>\n",
       "      <th>client_union_id</th>\n",
       "      <th>campaign_union_id</th>\n",
       "      <th>ad_cost_type</th>\n",
       "      <th>ad_cost</th>\n",
       "      <th>has_video</th>\n",
       "      <th>target_audience_count</th>\n",
       "    </tr>\n",
       "  </thead>\n",
       "  <tbody>\n",
       "    <tr>\n",
       "      <th>0</th>\n",
       "      <td>2019-04-01</td>\n",
       "      <td>2019-04-01 00:00:48</td>\n",
       "      <td>view</td>\n",
       "      <td>android</td>\n",
       "      <td>45061</td>\n",
       "      <td>34734</td>\n",
       "      <td>45061</td>\n",
       "      <td>CPM</td>\n",
       "      <td>200.6</td>\n",
       "      <td>0</td>\n",
       "      <td>1955269</td>\n",
       "    </tr>\n",
       "    <tr>\n",
       "      <th>1</th>\n",
       "      <td>2019-04-01</td>\n",
       "      <td>2019-04-01 00:00:48</td>\n",
       "      <td>view</td>\n",
       "      <td>web</td>\n",
       "      <td>121288</td>\n",
       "      <td>121288</td>\n",
       "      <td>121288</td>\n",
       "      <td>CPM</td>\n",
       "      <td>187.4</td>\n",
       "      <td>0</td>\n",
       "      <td>232011</td>\n",
       "    </tr>\n",
       "    <tr>\n",
       "      <th>2</th>\n",
       "      <td>2019-04-01</td>\n",
       "      <td>2019-04-01 00:01:03</td>\n",
       "      <td>view</td>\n",
       "      <td>android</td>\n",
       "      <td>102737</td>\n",
       "      <td>102535</td>\n",
       "      <td>102564</td>\n",
       "      <td>CPC</td>\n",
       "      <td>60.7</td>\n",
       "      <td>0</td>\n",
       "      <td>4410</td>\n",
       "    </tr>\n",
       "    <tr>\n",
       "      <th>3</th>\n",
       "      <td>2019-04-01</td>\n",
       "      <td>2019-04-01 00:01:03</td>\n",
       "      <td>view</td>\n",
       "      <td>android</td>\n",
       "      <td>107564</td>\n",
       "      <td>106914</td>\n",
       "      <td>107564</td>\n",
       "      <td>CPM</td>\n",
       "      <td>217.3</td>\n",
       "      <td>0</td>\n",
       "      <td>62711</td>\n",
       "    </tr>\n",
       "    <tr>\n",
       "      <th>4</th>\n",
       "      <td>2019-04-01</td>\n",
       "      <td>2019-04-01 00:01:09</td>\n",
       "      <td>view</td>\n",
       "      <td>android</td>\n",
       "      <td>4922</td>\n",
       "      <td>37</td>\n",
       "      <td>4400</td>\n",
       "      <td>CPC</td>\n",
       "      <td>60.1</td>\n",
       "      <td>0</td>\n",
       "      <td>1183501</td>\n",
       "    </tr>\n",
       "    <tr>\n",
       "      <th>...</th>\n",
       "      <td>...</td>\n",
       "      <td>...</td>\n",
       "      <td>...</td>\n",
       "      <td>...</td>\n",
       "      <td>...</td>\n",
       "      <td>...</td>\n",
       "      <td>...</td>\n",
       "      <td>...</td>\n",
       "      <td>...</td>\n",
       "      <td>...</td>\n",
       "      <td>...</td>\n",
       "    </tr>\n",
       "    <tr>\n",
       "      <th>999995</th>\n",
       "      <td>2019-04-05</td>\n",
       "      <td>2019-04-05 20:59:52</td>\n",
       "      <td>view</td>\n",
       "      <td>web</td>\n",
       "      <td>112583</td>\n",
       "      <td>111818</td>\n",
       "      <td>112260</td>\n",
       "      <td>CPM</td>\n",
       "      <td>210.1</td>\n",
       "      <td>0</td>\n",
       "      <td>22392</td>\n",
       "    </tr>\n",
       "    <tr>\n",
       "      <th>999996</th>\n",
       "      <td>2019-04-05</td>\n",
       "      <td>2019-04-05 20:59:52</td>\n",
       "      <td>view</td>\n",
       "      <td>android</td>\n",
       "      <td>112583</td>\n",
       "      <td>111818</td>\n",
       "      <td>112260</td>\n",
       "      <td>CPM</td>\n",
       "      <td>210.1</td>\n",
       "      <td>0</td>\n",
       "      <td>22392</td>\n",
       "    </tr>\n",
       "    <tr>\n",
       "      <th>999997</th>\n",
       "      <td>2019-04-05</td>\n",
       "      <td>2019-04-05 20:59:52</td>\n",
       "      <td>click</td>\n",
       "      <td>web</td>\n",
       "      <td>112583</td>\n",
       "      <td>111818</td>\n",
       "      <td>112260</td>\n",
       "      <td>CPM</td>\n",
       "      <td>210.1</td>\n",
       "      <td>0</td>\n",
       "      <td>22392</td>\n",
       "    </tr>\n",
       "    <tr>\n",
       "      <th>999998</th>\n",
       "      <td>2019-04-05</td>\n",
       "      <td>2019-04-05 20:59:52</td>\n",
       "      <td>view</td>\n",
       "      <td>web</td>\n",
       "      <td>113350</td>\n",
       "      <td>113036</td>\n",
       "      <td>113251</td>\n",
       "      <td>CPM</td>\n",
       "      <td>183.3</td>\n",
       "      <td>0</td>\n",
       "      <td>571929</td>\n",
       "    </tr>\n",
       "    <tr>\n",
       "      <th>999999</th>\n",
       "      <td>2019-04-05</td>\n",
       "      <td>2019-04-05 20:59:52</td>\n",
       "      <td>view</td>\n",
       "      <td>android</td>\n",
       "      <td>117353</td>\n",
       "      <td>117350</td>\n",
       "      <td>117353</td>\n",
       "      <td>CPM</td>\n",
       "      <td>207.5</td>\n",
       "      <td>1</td>\n",
       "      <td>167598</td>\n",
       "    </tr>\n",
       "  </tbody>\n",
       "</table>\n",
       "<p>1000000 rows × 11 columns</p>\n",
       "</div>"
      ],
      "text/plain": [
       "              date                 time  event platform   ad_id  \\\n",
       "0       2019-04-01  2019-04-01 00:00:48   view  android   45061   \n",
       "1       2019-04-01  2019-04-01 00:00:48   view      web  121288   \n",
       "2       2019-04-01  2019-04-01 00:01:03   view  android  102737   \n",
       "3       2019-04-01  2019-04-01 00:01:03   view  android  107564   \n",
       "4       2019-04-01  2019-04-01 00:01:09   view  android    4922   \n",
       "...            ...                  ...    ...      ...     ...   \n",
       "999995  2019-04-05  2019-04-05 20:59:52   view      web  112583   \n",
       "999996  2019-04-05  2019-04-05 20:59:52   view  android  112583   \n",
       "999997  2019-04-05  2019-04-05 20:59:52  click      web  112583   \n",
       "999998  2019-04-05  2019-04-05 20:59:52   view      web  113350   \n",
       "999999  2019-04-05  2019-04-05 20:59:52   view  android  117353   \n",
       "\n",
       "        client_union_id  campaign_union_id ad_cost_type  ad_cost  has_video  \\\n",
       "0                 34734              45061          CPM    200.6          0   \n",
       "1                121288             121288          CPM    187.4          0   \n",
       "2                102535             102564          CPC     60.7          0   \n",
       "3                106914             107564          CPM    217.3          0   \n",
       "4                    37               4400          CPC     60.1          0   \n",
       "...                 ...                ...          ...      ...        ...   \n",
       "999995           111818             112260          CPM    210.1          0   \n",
       "999996           111818             112260          CPM    210.1          0   \n",
       "999997           111818             112260          CPM    210.1          0   \n",
       "999998           113036             113251          CPM    183.3          0   \n",
       "999999           117350             117353          CPM    207.5          1   \n",
       "\n",
       "        target_audience_count  \n",
       "0                     1955269  \n",
       "1                      232011  \n",
       "2                        4410  \n",
       "3                       62711  \n",
       "4                     1183501  \n",
       "...                       ...  \n",
       "999995                  22392  \n",
       "999996                  22392  \n",
       "999997                  22392  \n",
       "999998                 571929  \n",
       "999999                 167598  \n",
       "\n",
       "[1000000 rows x 11 columns]"
      ]
     },
     "execution_count": 109,
     "metadata": {},
     "output_type": "execute_result"
    }
   ],
   "source": [
    "df"
   ]
  },
  {
   "cell_type": "code",
   "execution_count": 111,
   "id": "b9374a7d",
   "metadata": {},
   "outputs": [],
   "source": [
    "full_data = df.merge(df_client.drop(columns=['date', 'community_id']))"
   ]
  },
  {
   "cell_type": "code",
   "execution_count": 113,
   "id": "6d5146e6",
   "metadata": {},
   "outputs": [
    {
     "data": {
      "text/html": [
       "<div>\n",
       "<style scoped>\n",
       "    .dataframe tbody tr th:only-of-type {\n",
       "        vertical-align: middle;\n",
       "    }\n",
       "\n",
       "    .dataframe tbody tr th {\n",
       "        vertical-align: top;\n",
       "    }\n",
       "\n",
       "    .dataframe thead th {\n",
       "        text-align: right;\n",
       "    }\n",
       "</style>\n",
       "<table border=\"1\" class=\"dataframe\">\n",
       "  <thead>\n",
       "    <tr style=\"text-align: right;\">\n",
       "      <th></th>\n",
       "      <th>date</th>\n",
       "      <th>time</th>\n",
       "      <th>event</th>\n",
       "      <th>platform</th>\n",
       "      <th>ad_id</th>\n",
       "      <th>client_union_id</th>\n",
       "      <th>campaign_union_id</th>\n",
       "      <th>ad_cost_type</th>\n",
       "      <th>ad_cost</th>\n",
       "      <th>has_video</th>\n",
       "      <th>target_audience_count</th>\n",
       "      <th>create_date</th>\n",
       "    </tr>\n",
       "  </thead>\n",
       "  <tbody>\n",
       "    <tr>\n",
       "      <th>0</th>\n",
       "      <td>2019-04-01</td>\n",
       "      <td>2019-04-01 00:00:48</td>\n",
       "      <td>view</td>\n",
       "      <td>android</td>\n",
       "      <td>45061</td>\n",
       "      <td>34734</td>\n",
       "      <td>45061</td>\n",
       "      <td>CPM</td>\n",
       "      <td>200.6</td>\n",
       "      <td>0</td>\n",
       "      <td>1955269</td>\n",
       "      <td>2018-12-04</td>\n",
       "    </tr>\n",
       "    <tr>\n",
       "      <th>1</th>\n",
       "      <td>2019-04-01</td>\n",
       "      <td>2019-04-01 00:03:28</td>\n",
       "      <td>view</td>\n",
       "      <td>android</td>\n",
       "      <td>45061</td>\n",
       "      <td>34734</td>\n",
       "      <td>45061</td>\n",
       "      <td>CPM</td>\n",
       "      <td>200.6</td>\n",
       "      <td>0</td>\n",
       "      <td>1955269</td>\n",
       "      <td>2018-12-04</td>\n",
       "    </tr>\n",
       "    <tr>\n",
       "      <th>2</th>\n",
       "      <td>2019-04-01</td>\n",
       "      <td>2019-04-01 00:04:58</td>\n",
       "      <td>view</td>\n",
       "      <td>ios</td>\n",
       "      <td>45061</td>\n",
       "      <td>34734</td>\n",
       "      <td>45061</td>\n",
       "      <td>CPM</td>\n",
       "      <td>200.6</td>\n",
       "      <td>0</td>\n",
       "      <td>1955269</td>\n",
       "      <td>2018-12-04</td>\n",
       "    </tr>\n",
       "    <tr>\n",
       "      <th>3</th>\n",
       "      <td>2019-04-01</td>\n",
       "      <td>2019-04-01 00:10:23</td>\n",
       "      <td>view</td>\n",
       "      <td>ios</td>\n",
       "      <td>45061</td>\n",
       "      <td>34734</td>\n",
       "      <td>45061</td>\n",
       "      <td>CPM</td>\n",
       "      <td>200.6</td>\n",
       "      <td>0</td>\n",
       "      <td>1955269</td>\n",
       "      <td>2018-12-04</td>\n",
       "    </tr>\n",
       "    <tr>\n",
       "      <th>4</th>\n",
       "      <td>2019-04-01</td>\n",
       "      <td>2019-04-01 00:15:42</td>\n",
       "      <td>view</td>\n",
       "      <td>android</td>\n",
       "      <td>45061</td>\n",
       "      <td>34734</td>\n",
       "      <td>45061</td>\n",
       "      <td>CPM</td>\n",
       "      <td>200.6</td>\n",
       "      <td>0</td>\n",
       "      <td>1955269</td>\n",
       "      <td>2018-12-04</td>\n",
       "    </tr>\n",
       "  </tbody>\n",
       "</table>\n",
       "</div>"
      ],
      "text/plain": [
       "         date                 time event platform  ad_id  client_union_id  \\\n",
       "0  2019-04-01  2019-04-01 00:00:48  view  android  45061            34734   \n",
       "1  2019-04-01  2019-04-01 00:03:28  view  android  45061            34734   \n",
       "2  2019-04-01  2019-04-01 00:04:58  view      ios  45061            34734   \n",
       "3  2019-04-01  2019-04-01 00:10:23  view      ios  45061            34734   \n",
       "4  2019-04-01  2019-04-01 00:15:42  view  android  45061            34734   \n",
       "\n",
       "   campaign_union_id ad_cost_type  ad_cost  has_video  target_audience_count  \\\n",
       "0              45061          CPM    200.6          0                1955269   \n",
       "1              45061          CPM    200.6          0                1955269   \n",
       "2              45061          CPM    200.6          0                1955269   \n",
       "3              45061          CPM    200.6          0                1955269   \n",
       "4              45061          CPM    200.6          0                1955269   \n",
       "\n",
       "  create_date  \n",
       "0  2018-12-04  \n",
       "1  2018-12-04  \n",
       "2  2018-12-04  \n",
       "3  2018-12-04  \n",
       "4  2018-12-04  "
      ]
     },
     "execution_count": 113,
     "metadata": {},
     "output_type": "execute_result"
    }
   ],
   "source": [
    "full_data.head()"
   ]
  },
  {
   "cell_type": "code",
   "execution_count": 116,
   "id": "9873aebc",
   "metadata": {},
   "outputs": [],
   "source": [
    " full_data[['date', 'create_date']] = full_data[['date', 'create_date']].apply(pd.to_datetime)"
   ]
  },
  {
   "cell_type": "code",
   "execution_count": 117,
   "id": "5458e082",
   "metadata": {},
   "outputs": [
    {
     "data": {
      "text/plain": [
       "date                     datetime64[ns]\n",
       "time                             object\n",
       "event                            object\n",
       "platform                         object\n",
       "ad_id                             int64\n",
       "client_union_id                   int64\n",
       "campaign_union_id                 int64\n",
       "ad_cost_type                     object\n",
       "ad_cost                         float64\n",
       "has_video                         int64\n",
       "target_audience_count             int64\n",
       "create_date              datetime64[ns]\n",
       "dtype: object"
      ]
     },
     "execution_count": 117,
     "metadata": {},
     "output_type": "execute_result"
    }
   ],
   "source": [
    "full_data.dtypes"
   ]
  },
  {
   "cell_type": "code",
   "execution_count": 120,
   "id": "f19c7017",
   "metadata": {},
   "outputs": [
    {
     "data": {
      "text/plain": [
       "Timedelta('124 days 09:04:43.532219570')"
      ]
     },
     "execution_count": 120,
     "metadata": {},
     "output_type": "execute_result"
    }
   ],
   "source": [
    "full_data.groupby('client_union_id') \\\n",
    "    .apply(lambda group: (group.date - group.create_date).min()) \\\n",
    "    .mean()"
   ]
  },
  {
   "cell_type": "code",
   "execution_count": 121,
   "id": "869d68da",
   "metadata": {},
   "outputs": [
    {
     "data": {
      "text/plain": [
       "Timedelta('365 days 00:00:00')"
      ]
     },
     "execution_count": 121,
     "metadata": {},
     "output_type": "execute_result"
    }
   ],
   "source": [
    "timehold = pd.to_timedelta('365d')\n",
    "timehold"
   ]
  },
  {
   "cell_type": "code",
   "execution_count": 122,
   "id": "b99a1b3d",
   "metadata": {},
   "outputs": [],
   "source": [
    "diff_date = full_data.groupby('client_union_id') \\\n",
    "    .apply(lambda group: (group.date - group.create_date).min())"
   ]
  },
  {
   "cell_type": "code",
   "execution_count": 123,
   "id": "951424d8",
   "metadata": {},
   "outputs": [
    {
     "data": {
      "text/plain": [
       "client_union_id\n",
       "1         98 days\n",
       "9        114 days\n",
       "13        66 days\n",
       "16       105 days\n",
       "20        32 days\n",
       "           ...   \n",
       "122004    67 days\n",
       "122013   151 days\n",
       "122023   126 days\n",
       "122031    96 days\n",
       "122078    71 days\n",
       "Length: 838, dtype: timedelta64[ns]"
      ]
     },
     "execution_count": 123,
     "metadata": {},
     "output_type": "execute_result"
    }
   ],
   "source": [
    "diff_date"
   ]
  },
  {
   "cell_type": "code",
   "execution_count": 129,
   "id": "c2902d86",
   "metadata": {},
   "outputs": [
    {
     "data": {
      "text/plain": [
       "client_union_id\n",
       "1         98 days\n",
       "9        114 days\n",
       "13        66 days\n",
       "16       105 days\n",
       "20        32 days\n",
       "           ...   \n",
       "122004    67 days\n",
       "122013   151 days\n",
       "122023   126 days\n",
       "122031    96 days\n",
       "122078    71 days\n",
       "Length: 838, dtype: timedelta64[ns]"
      ]
     },
     "execution_count": 129,
     "metadata": {},
     "output_type": "execute_result"
    }
   ],
   "source": [
    "diff_date = diff_date.loc[diff_date < timehold]\n",
    "diff_date"
   ]
  },
  {
   "cell_type": "code",
   "execution_count": 134,
   "id": "75df814a",
   "metadata": {},
   "outputs": [
    {
     "data": {
      "text/plain": [
       "0.69"
      ]
     },
     "execution_count": 134,
     "metadata": {},
     "output_type": "execute_result"
    }
   ],
   "source": [
    "round(diff_date.shape[0] / df_client.client_union_id.nunique() * 100, 2)"
   ]
  },
  {
   "cell_type": "code",
   "execution_count": 138,
   "id": "f4fc07c3",
   "metadata": {},
   "outputs": [
    {
     "data": {
      "text/plain": [
       "client_union_id\n",
       "1          (82 days 06:00:00, 138 days 12:00:00]\n",
       "9          (82 days 06:00:00, 138 days 12:00:00]\n",
       "13          (25 days 18:36:00, 82 days 06:00:00]\n",
       "16         (82 days 06:00:00, 138 days 12:00:00]\n",
       "20          (25 days 18:36:00, 82 days 06:00:00]\n",
       "                           ...                  \n",
       "122004      (25 days 18:36:00, 82 days 06:00:00]\n",
       "122013    (138 days 12:00:00, 194 days 18:00:00]\n",
       "122023     (82 days 06:00:00, 138 days 12:00:00]\n",
       "122031     (82 days 06:00:00, 138 days 12:00:00]\n",
       "122078      (25 days 18:36:00, 82 days 06:00:00]\n",
       "Length: 838, dtype: category\n",
       "Categories (4, interval[timedelta64[ns]]): [(25 days 18:36:00, 82 days 06:00:00] < (82 days 06:00:00, 138 days 12:00:00] < (138 days 12:00:00, 194 days 18:00:00] < (194 days 18:00:00, 251 days 00:00:00]]"
      ]
     },
     "execution_count": 138,
     "metadata": {},
     "output_type": "execute_result"
    }
   ],
   "source": [
    "pd.cut(diff_date, 4)"
   ]
  },
  {
   "cell_type": "code",
   "execution_count": 140,
   "id": "42bd656b",
   "metadata": {},
   "outputs": [],
   "source": [
    "bins = pd.to_timedelta([0, 30, 90, 180, 365], unit='d')"
   ]
  },
  {
   "cell_type": "code",
   "execution_count": 144,
   "id": "90fa615e",
   "metadata": {},
   "outputs": [
    {
     "data": {
      "text/plain": [
       "90-180     396\n",
       "30-90      263\n",
       "180-365    168\n",
       "0-30        11\n",
       "dtype: int64"
      ]
     },
     "execution_count": 144,
     "metadata": {},
     "output_type": "execute_result"
    }
   ],
   "source": [
    "pd.cut(diff_date, bins=bins, labels=['0-30', '30-90', '90-180', '180-365']).value_counts()"
   ]
  },
  {
   "cell_type": "code",
   "execution_count": 148,
   "id": "108f41fc",
   "metadata": {},
   "outputs": [
    {
     "name": "stdout",
     "output_type": "stream",
     "text": [
      "^C\n",
      "\n",
      "Note: you may need to restart the kernel to use updated packages.\n"
     ]
    }
   ],
   "source": [
    "conda install -c https://conda.anaconda.org/plotly plotly"
   ]
  },
  {
   "cell_type": "code",
   "execution_count": 149,
   "id": "0d10da7a",
   "metadata": {},
   "outputs": [
    {
     "name": "stdout",
     "output_type": "stream",
     "text": [
      "Collecting package metadata (current_repodata.json): ...working... done"
     ]
    },
    {
     "name": "stderr",
     "output_type": "stream",
     "text": [
      "WARNING conda.gateways.disk.delete:unlink_or_rename_to_trash(143): Could not remove or rename C:\\Users\\Миненко\\.conda\\pkgs\\plotly-5.10.0-py_0.tar.bz2.  Please remove this file manually (you may need to reboot to free file handles)\n",
      "\n",
      "InvalidArchiveError(\"Error with archive C:\\\\Users\\\\Миненко\\\\.conda\\\\pkgs\\\\conda-4.14.0-py38haa95532_0yie9jo0t\\\\info-conda-4.14.0-py38haa95532_0.tar.zst.  You probably need to delete and re-download or re-create this file.  Message from libarchive was:\\n\\nFailed to open 'C:\\\\Users\\\\Миненко\\\\.conda\\\\pkgs\\\\conda-4.14.0-py38haa95532_0yie9jo0t\\\\info-conda-4.14.0-py38haa95532_0.tar.zst'\")\n",
      "InvalidArchiveError(\"Error with archive C:\\\\Users\\\\Миненко\\\\.conda\\\\pkgs\\\\plotly-5.9.0-py38haa95532_07sn525sh\\\\info-plotly-5.9.0-py38haa95532_0.tar.zst.  You probably need to delete and re-download or re-create this file.  Message from libarchive was:\\n\\nFailed to open 'C:\\\\Users\\\\Миненко\\\\.conda\\\\pkgs\\\\plotly-5.9.0-py38haa95532_07sn525sh\\\\info-plotly-5.9.0-py38haa95532_0.tar.zst'\")\n",
      "InvalidArchiveError(\"Error with archive C:\\\\Users\\\\Миненко\\\\.conda\\\\pkgs\\\\tenacity-8.0.1-py38haa95532_11sj4q2r9\\\\info-tenacity-8.0.1-py38haa95532_1.tar.zst.  You probably need to delete and re-download or re-create this file.  Message from libarchive was:\\n\\nFailed to open 'C:\\\\Users\\\\Миненко\\\\.conda\\\\pkgs\\\\tenacity-8.0.1-py38haa95532_11sj4q2r9\\\\info-tenacity-8.0.1-py38haa95532_1.tar.zst'\")\n",
      "\n"
     ]
    },
    {
     "name": "stdout",
     "output_type": "stream",
     "text": [
      "\n",
      "Solving environment: ...working... done\n",
      "\n",
      "## Package Plan ##\n",
      "\n",
      "  environment location: C:\\ProgramData\\Anaconda3\n",
      "\n",
      "  added / updated specs:\n",
      "    - plotly\n",
      "\n",
      "\n",
      "The following packages will be downloaded:\n",
      "\n",
      "    package                    |            build\n",
      "    ---------------------------|-----------------\n",
      "    conda-4.14.0               |   py38haa95532_0         936 KB\n",
      "    plotly-5.9.0               |   py38haa95532_0         4.1 MB\n",
      "    tenacity-8.0.1             |   py38haa95532_1          34 KB\n",
      "    ------------------------------------------------------------\n",
      "                                           Total:         5.0 MB\n",
      "\n",
      "The following NEW packages will be INSTALLED:\n",
      "\n",
      "  plotly             pkgs/main/win-64::plotly-5.9.0-py38haa95532_0\n",
      "  tenacity           pkgs/main/win-64::tenacity-8.0.1-py38haa95532_1\n",
      "\n",
      "The following packages will be UPDATED:\n",
      "\n",
      "  conda                               4.10.3-py38haa95532_0 --> 4.14.0-py38haa95532_0\n",
      "\n",
      "\n",
      "\n",
      "Downloading and Extracting Packages\n",
      "\n",
      "conda-4.14.0         | 936 KB    |            |   0% \n",
      "conda-4.14.0         | 936 KB    | 1          |   2% \n",
      "conda-4.14.0         | 936 KB    | ##7        |  27% \n",
      "conda-4.14.0         | 936 KB    | ####2      |  43% \n",
      "conda-4.14.0         | 936 KB    | #####4     |  55% \n",
      "conda-4.14.0         | 936 KB    | ########## | 100% \n",
      "\n",
      "plotly-5.9.0         | 4.1 MB    |            |   0% \n",
      "plotly-5.9.0         | 4.1 MB    |            |   0% \n",
      "plotly-5.9.0         | 4.1 MB    | 6          |   7% \n",
      "plotly-5.9.0         | 4.1 MB    | #1         |  11% \n",
      "plotly-5.9.0         | 4.1 MB    | #9         |  20% \n",
      "plotly-5.9.0         | 4.1 MB    | ##8        |  28% \n",
      "plotly-5.9.0         | 4.1 MB    | ###4       |  34% \n",
      "plotly-5.9.0         | 4.1 MB    | ####1      |  42% \n",
      "plotly-5.9.0         | 4.1 MB    | #####      |  50% \n",
      "plotly-5.9.0         | 4.1 MB    | #####6     |  57% \n",
      "plotly-5.9.0         | 4.1 MB    | ######6    |  67% \n",
      "plotly-5.9.0         | 4.1 MB    | #######4   |  74% \n",
      "plotly-5.9.0         | 4.1 MB    | ########1  |  81% \n",
      "plotly-5.9.0         | 4.1 MB    | ########6  |  87% \n",
      "plotly-5.9.0         | 4.1 MB    | #########3 |  93% \n",
      "plotly-5.9.0         | 4.1 MB    | #########8 |  98% \n",
      "plotly-5.9.0         | 4.1 MB    | ########## | 100% \n",
      "\n",
      "tenacity-8.0.1       | 34 KB     |            |   0% \n",
      "tenacity-8.0.1       | 34 KB     | ########## | 100% \n",
      "Collecting package metadata (current_repodata.json): ...working... done\n",
      "Solving environment: ...working... done\n",
      "\n",
      "## Package Plan ##\n",
      "\n",
      "  environment location: C:\\ProgramData\\Anaconda3\n",
      "\n",
      "  added / updated specs:\n",
      "    - plotly\n",
      "\n",
      "\n",
      "The following packages will be downloaded:\n",
      "\n",
      "    package                    |            build\n",
      "    ---------------------------|-----------------\n",
      "    conda-4.14.0               |   py38haa95532_0         936 KB\n",
      "    plotly-5.10.0              |             py_0         7.0 MB  plotly\n",
      "    tenacity-8.0.1             |   py38haa95532_1          34 KB\n",
      "    ------------------------------------------------------------\n",
      "                                           Total:         7.9 MB\n",
      "\n",
      "The following NEW packages will be INSTALLED:\n",
      "\n",
      "  plotly             plotly/noarch::plotly-5.10.0-py_0\n",
      "  tenacity           pkgs/main/win-64::tenacity-8.0.1-py38haa95532_1\n",
      "\n",
      "The following packages will be UPDATED:\n",
      "\n",
      "  conda                               4.10.3-py38haa95532_0 --> 4.14.0-py38haa95532_0\n",
      "\n",
      "\n",
      "\n",
      "Downloading and Extracting Packages\n",
      "\n",
      "plotly-5.10.0        | 7.0 MB    |            |   0% \n",
      "plotly-5.10.0        | 7.0 MB    | ########## | 100% \n",
      "plotly-5.10.0        | 7.0 MB    | ########## | 100% \n",
      "\n",
      "conda-4.14.0         | 936 KB    |            |   0% \n",
      "conda-4.14.0         | 936 KB    | 1          |   2% \n",
      "conda-4.14.0         | 936 KB    | ###4       |  34% \n",
      "conda-4.14.0         | 936 KB    | #####6     |  56% \n",
      "conda-4.14.0         | 936 KB    | ########## | 100% \n",
      "\n",
      "tenacity-8.0.1       | 34 KB     |            |   0% \n",
      "tenacity-8.0.1       | 34 KB     | ########## | 100% \n"
     ]
    },
    {
     "name": "stderr",
     "output_type": "stream",
     "text": [
      "\n",
      "InvalidArchiveError(\"Error with archive C:\\\\Users\\\\Миненко\\\\.conda\\\\pkgs\\\\conda-4.14.0-py38haa95532_06nlk0v1w\\\\info-conda-4.14.0-py38haa95532_0.tar.zst.  You probably need to delete and re-download or re-create this file.  Message from libarchive was:\\n\\nFailed to open 'C:\\\\Users\\\\Миненко\\\\.conda\\\\pkgs\\\\conda-4.14.0-py38haa95532_06nlk0v1w\\\\info-conda-4.14.0-py38haa95532_0.tar.zst'\")\n",
      "InvalidArchiveError(\"Error with archive C:\\\\Users\\\\Миненко\\\\.conda\\\\pkgs\\\\tenacity-8.0.1-py38haa95532_18ttuao_5\\\\info-tenacity-8.0.1-py38haa95532_1.tar.zst.  You probably need to delete and re-download or re-create this file.  Message from libarchive was:\\n\\nFailed to open 'C:\\\\Users\\\\Миненко\\\\.conda\\\\pkgs\\\\tenacity-8.0.1-py38haa95532_18ttuao_5\\\\info-tenacity-8.0.1-py38haa95532_1.tar.zst'\")\n",
      "\n"
     ]
    }
   ],
   "source": [
    "import sys\n",
    "!conda install --yes --prefix {sys.prefix} plotly"
   ]
  },
  {
   "cell_type": "code",
   "execution_count": null,
   "id": "be6b898c",
   "metadata": {},
   "outputs": [],
   "source": []
  }
 ],
 "metadata": {
  "kernelspec": {
   "display_name": "Python 3",
   "language": "python",
   "name": "python3"
  },
  "language_info": {
   "codemirror_mode": {
    "name": "ipython",
    "version": 3
   },
   "file_extension": ".py",
   "mimetype": "text/x-python",
   "name": "python",
   "nbconvert_exporter": "python",
   "pygments_lexer": "ipython3",
   "version": "3.8.8"
  }
 },
 "nbformat": 4,
 "nbformat_minor": 5
}
